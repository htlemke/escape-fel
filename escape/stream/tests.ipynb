{
 "cells": [
  {
   "cell_type": "code",
   "execution_count": 1,
   "metadata": {},
   "outputs": [
    {
     "name": "stdout",
     "output_type": "stream",
     "text": [
      "Using matplotlib backend: module://ipympl.backend_nbagg\n",
      "%pylab is deprecated, use %matplotlib inline and import the required libraries.\n",
      "Populating the interactive namespace from numpy and matplotlib\n"
     ]
    }
   ],
   "source": [
    "%matplotlib widget\n",
    "%pylab\n",
    "import sys\n",
    "sys.path.insert(0,'/photonics/home/lemke_h/mypy/escape-fel/')\n",
    "from escape import stream\n",
    "ew = stream.EventWorker()\n",
    "from time import sleep"
   ]
  },
  {
   "cell_type": "code",
   "execution_count": 86,
   "metadata": {},
   "outputs": [
    {
     "name": "stdout",
     "output_type": "stream",
     "text": [
      "Toggling accumulation to on\n"
     ]
    }
   ],
   "source": [
    "t = stream.EscData(source=stream.EventSource('SAROP21-PBPS103:INTENSITY',ew))   \n",
    "i = stream.EscData(source=stream.EventSource('SARFE10-PBPS053:INTENSITY',ew)) \n",
    "e = stream.EscData(source=stream.EventSource('SAR-CVME-TIFALL5:EvtSet',ew)) \n",
    "# i.accumulate()\n",
    "e.accumulate()"
   ]
  },
  {
   "cell_type": "code",
   "execution_count": null,
   "metadata": {},
   "outputs": [],
   "source": []
  },
  {
   "cell_type": "code",
   "execution_count": 11,
   "metadata": {},
   "outputs": [
    {
     "name": "stdout",
     "output_type": "stream",
     "text": [
      "Toggling accumulation to off\n",
      "eventloop closing\n"
     ]
    }
   ],
   "source": [
    "i.accumulate()"
   ]
  },
  {
   "cell_type": "code",
   "execution_count": null,
   "metadata": {},
   "outputs": [
    {
     "ename": "KeyboardInterrupt",
     "evalue": "",
     "output_type": "error",
     "traceback": [
      "\u001b[0;31m---------------------------------------------------------------------------\u001b[0m",
      "\u001b[0;31mKeyboardInterrupt\u001b[0m                         Traceback (most recent call last)",
      "\u001b[1;32m/photonics/home/lemke_h/mypy/escape-fel/escape/stream/tests.ipynb Cell 4'\u001b[0m in \u001b[0;36m<cell line: 1>\u001b[0;34m()\u001b[0m\n\u001b[0;32m----> <a href='vscode-notebook-cell://ssh-remote%2Bsaresb-cons-02/photonics/home/lemke_h/mypy/escape-fel/escape/stream/tests.ipynb#ch0000004vscode-remote?line=0'>1</a>\u001b[0m ew\u001b[39m.\u001b[39;49m_eventHandler\u001b[39m.\u001b[39;49msource\u001b[39m.\u001b[39;49mreceive()\n",
      "File \u001b[0;32m/sf/bernina/applications/bm/envs/bernina38/lib/python3.8/site-packages/bsread/bsread.py:171\u001b[0m, in \u001b[0;36mSource.receive\u001b[0;34m(self, filter, handler)\u001b[0m\n\u001b[1;32m    168\u001b[0m \u001b[39mif\u001b[39;00m \u001b[39mnot\u001b[39;00m handler:\n\u001b[1;32m    169\u001b[0m     handler \u001b[39m=\u001b[39m \u001b[39mself\u001b[39m\u001b[39m.\u001b[39mhandler\u001b[39m.\u001b[39mreceive\n\u001b[0;32m--> 171\u001b[0m message \u001b[39m=\u001b[39m \u001b[39mself\u001b[39;49m\u001b[39m.\u001b[39;49mstream\u001b[39m.\u001b[39;49mreceive(handler\u001b[39m=\u001b[39;49mhandler)\n\u001b[1;32m    173\u001b[0m \u001b[39mif\u001b[39;00m \u001b[39mfilter\u001b[39m:\n\u001b[1;32m    174\u001b[0m     \u001b[39mwhile\u001b[39;00m \u001b[39mTrue\u001b[39;00m:  \u001b[39m# continue receiving new messages until condition is met\u001b[39;00m\n",
      "File \u001b[0;32m/sf/bernina/applications/bm/envs/bernina38/lib/python3.8/site-packages/mflow/mflow.py:199\u001b[0m, in \u001b[0;36mStream.receive\u001b[0;34m(self, handler, block)\u001b[0m\n\u001b[1;32m    196\u001b[0m         logger\u001b[39m.\u001b[39mwarning(\u001b[39m'\u001b[39m\u001b[39mhtype - \u001b[39m\u001b[39m'\u001b[39m \u001b[39m+\u001b[39m htype \u001b[39m+\u001b[39m \u001b[39m'\u001b[39m\u001b[39m -  not supported\u001b[39m\u001b[39m'\u001b[39m)\n\u001b[1;32m    198\u001b[0m \u001b[39mtry\u001b[39;00m:\n\u001b[0;32m--> 199\u001b[0m     data \u001b[39m=\u001b[39m handler(\u001b[39mself\u001b[39;49m\u001b[39m.\u001b[39;49mreceiver)\n\u001b[1;32m    200\u001b[0m     \u001b[39m# as an extra safety margin\u001b[39;00m\n\u001b[1;32m    201\u001b[0m     \u001b[39mif\u001b[39;00m data:\n",
      "File \u001b[0;32m/sf/bernina/applications/bm/envs/bernina38/lib/python3.8/site-packages/bsread/handlers/compact.py:18\u001b[0m, in \u001b[0;36mHandler.receive\u001b[0;34m(self, receiver)\u001b[0m\n\u001b[1;32m     15\u001b[0m \u001b[39mdef\u001b[39;00m \u001b[39mreceive\u001b[39m(\u001b[39mself\u001b[39m, receiver):\n\u001b[1;32m     16\u001b[0m \n\u001b[1;32m     17\u001b[0m     \u001b[39m# Receive main header\u001b[39;00m\n\u001b[0;32m---> 18\u001b[0m     header \u001b[39m=\u001b[39m receiver\u001b[39m.\u001b[39;49mnext(as_json\u001b[39m=\u001b[39;49m\u001b[39mTrue\u001b[39;49;00m)\n\u001b[1;32m     20\u001b[0m     \u001b[39m# We cannot process an empty Header.\u001b[39;00m\n\u001b[1;32m     21\u001b[0m     \u001b[39mif\u001b[39;00m \u001b[39mnot\u001b[39;00m header:\n",
      "File \u001b[0;32m/sf/bernina/applications/bm/envs/bernina38/lib/python3.8/site-packages/mflow/mflow.py:295\u001b[0m, in \u001b[0;36mReceiveHandler.next\u001b[0;34m(self, as_json)\u001b[0m\n\u001b[1;32m    293\u001b[0m \u001b[39melse\u001b[39;00m:\n\u001b[1;32m    294\u001b[0m     flags \u001b[39m=\u001b[39m \u001b[39m0\u001b[39m \u001b[39mif\u001b[39;00m \u001b[39mself\u001b[39m\u001b[39m.\u001b[39mblock \u001b[39melse\u001b[39;00m zmq\u001b[39m.\u001b[39mNOBLOCK\n\u001b[0;32m--> 295\u001b[0m     raw \u001b[39m=\u001b[39m \u001b[39mself\u001b[39;49m\u001b[39m.\u001b[39;49msocket\u001b[39m.\u001b[39;49mrecv(flags\u001b[39m=\u001b[39;49mflags, copy\u001b[39m=\u001b[39;49m\u001b[39mself\u001b[39;49m\u001b[39m.\u001b[39;49mzmq_copy, track\u001b[39m=\u001b[39;49m\u001b[39mself\u001b[39;49m\u001b[39m.\u001b[39;49mzmq_track)\n\u001b[1;32m    297\u001b[0m \u001b[39mself\u001b[39m\u001b[39m.\u001b[39mstatistics\u001b[39m.\u001b[39mbytes_received \u001b[39m+\u001b[39m\u001b[39m=\u001b[39m \u001b[39mlen\u001b[39m(raw)\n\u001b[1;32m    298\u001b[0m \u001b[39mif\u001b[39;00m as_json:\n\u001b[1;32m    299\u001b[0m     \u001b[39m# non-copying recv returns a Frame object\u001b[39;00m\n\u001b[1;32m    300\u001b[0m     \u001b[39m# use Frame.bytes field will incur a copy, but without causing\u001b[39;00m\n\u001b[1;32m    301\u001b[0m     \u001b[39m# significant overhead since json header is of small size\u001b[39;00m\n",
      "File \u001b[0;32mzmq/backend/cython/socket.pyx:803\u001b[0m, in \u001b[0;36mzmq.backend.cython.socket.Socket.recv\u001b[0;34m()\u001b[0m\n",
      "File \u001b[0;32mzmq/backend/cython/socket.pyx:839\u001b[0m, in \u001b[0;36mzmq.backend.cython.socket.Socket.recv\u001b[0;34m()\u001b[0m\n",
      "File \u001b[0;32mzmq/backend/cython/socket.pyx:188\u001b[0m, in \u001b[0;36mzmq.backend.cython.socket._recv_copy\u001b[0;34m()\u001b[0m\n",
      "File \u001b[0;32m/sf/bernina/applications/bm/envs/bernina38/lib/python3.8/site-packages/zmq/backend/cython/checkrc.pxd:13\u001b[0m, in \u001b[0;36mzmq.backend.cython.checkrc._check_rc\u001b[0;34m()\u001b[0m\n",
      "\u001b[0;31mKeyboardInterrupt\u001b[0m: "
     ]
    }
   ],
   "source": [
    "ew._eventHandler.source"
   ]
  },
  {
   "cell_type": "code",
   "execution_count": 5,
   "metadata": {},
   "outputs": [],
   "source": [
    "import sys                                                                       \n",
    "from time import sleep                                                           \n",
    "sys.path.insert(0,'/photonics/home/lemke_h/mypy/escape-fel/')                    \n",
    "from escape.stream.es_wrappers import EventHandler_SFEL                                                   \n",
    "es = EventHandler_SFEL()"
   ]
  },
  {
   "cell_type": "code",
   "execution_count": 39,
   "metadata": {},
   "outputs": [
    {
     "ename": "NameError",
     "evalue": "name 'es' is not defined",
     "output_type": "error",
     "traceback": [
      "\u001b[0;31m---------------------------------------------------------------------------\u001b[0m",
      "\u001b[0;31mNameError\u001b[0m                                 Traceback (most recent call last)",
      "\u001b[1;32m/photonics/home/lemke_h/mypy/escape-fel/escape/stream/tests.ipynb Cell 2'\u001b[0m in \u001b[0;36m<cell line: 1>\u001b[0;34m()\u001b[0m\n\u001b[0;32m----> <a href='vscode-notebook-cell://ssh-remote%2Bsaresb-cons-02/photonics/home/lemke_h/mypy/escape-fel/escape/stream/tests.ipynb#ch0000008vscode-remote?line=0'>1</a>\u001b[0m es\u001b[39m.\u001b[39mregister_source( \u001b[39m'\u001b[39m\u001b[39mSAROP21-PBPS103:INTENSITY\u001b[39m\u001b[39m'\u001b[39m)  \n\u001b[1;32m      <a href='vscode-notebook-cell://ssh-remote%2Bsaresb-cons-02/photonics/home/lemke_h/mypy/escape-fel/escape/stream/tests.ipynb#ch0000008vscode-remote?line=1'>2</a>\u001b[0m es\u001b[39m.\u001b[39mregister_source( \u001b[39m'\u001b[39m\u001b[39mSARFE10-PBPS053:INTENSITY\u001b[39m\u001b[39m'\u001b[39m)   \n\u001b[1;32m      <a href='vscode-notebook-cell://ssh-remote%2Bsaresb-cons-02/photonics/home/lemke_h/mypy/escape-fel/escape/stream/tests.ipynb#ch0000008vscode-remote?line=2'>3</a>\u001b[0m m \u001b[39m=\u001b[39m es\u001b[39m.\u001b[39msource\u001b[39m.\u001b[39mreceive()\n",
      "\u001b[0;31mNameError\u001b[0m: name 'es' is not defined"
     ]
    }
   ],
   "source": [
    "es.register_source( 'SAROP21-PBPS103:INTENSITY')  \n",
    "es.register_source( 'SARFE10-PBPS053:INTENSITY')   \n",
    "m = es.source.receive()"
   ]
  },
  {
   "cell_type": "code",
   "execution_count": 16,
   "metadata": {},
   "outputs": [
    {
     "data": {
      "text/plain": [
       "odict_keys(['SAROP21-PBPS103:INTENSITY', 'SARFE10-PBPS053:INTENSITY'])"
      ]
     },
     "execution_count": 16,
     "metadata": {},
     "output_type": "execute_result"
    }
   ],
   "source": [
    "m.data.data.keys()"
   ]
  },
  {
   "cell_type": "code",
   "execution_count": null,
   "metadata": {},
   "outputs": [],
   "source": [
    "\n",
    "ew = stream.EventWorker()                                                        \n",
    "# ew.registerSource( 'SAROP21-PBPS103:INTENSITY')                                  \n",
    "ew.registerSource('SARFE10-PBPS053:INTENSITY')                                                                                                 \n",
    "sleep(5)                                                                        \n",
    "# t = stream.EscData(source=stream.EventSource( 'SAROP21-PBPS103:INTENSITY',ew))   \n",
    "i = stream.EscData(source=stream.EventSource('SARFE10-PBPS053:INTENSITY',ew)) \n",
    "ew.startEventLoop()"
   ]
  },
  {
   "cell_type": "code",
   "execution_count": 4,
   "metadata": {},
   "outputs": [
    {
     "data": {
      "text/plain": [
       "[deque([0.010659934213330162])]"
      ]
     },
     "execution_count": 4,
     "metadata": {},
     "output_type": "execute_result"
    }
   ],
   "source": [
    "i.data\n",
    "# t.accumulate()"
   ]
  },
  {
   "cell_type": "code",
   "execution_count": 6,
   "metadata": {},
   "outputs": [
    {
     "name": "stdout",
     "output_type": "stream",
     "text": [
      "> \u001b[0;32m/sf/bernina/applications/bm/envs/bernina38/lib/python3.8/site-packages/bsread/dispatcher.py\u001b[0m(151)\u001b[0;36mrequest_stream\u001b[0;34m()\u001b[0m\n",
      "\u001b[0;32m    149 \u001b[0;31m\u001b[0;34m\u001b[0m\u001b[0m\n",
      "\u001b[0m\u001b[0;32m    150 \u001b[0;31m    \u001b[0;32mif\u001b[0m \u001b[0;32mnot\u001b[0m \u001b[0mresponse\u001b[0m\u001b[0;34m.\u001b[0m\u001b[0mok\u001b[0m\u001b[0;34m:\u001b[0m\u001b[0;34m\u001b[0m\u001b[0;34m\u001b[0m\u001b[0m\n",
      "\u001b[0m\u001b[0;32m--> 151 \u001b[0;31m        \u001b[0;32mraise\u001b[0m \u001b[0mException\u001b[0m\u001b[0;34m(\u001b[0m\u001b[0;34m'Unable to request stream for specified channels - '\u001b[0m \u001b[0;34m+\u001b[0m \u001b[0mresponse\u001b[0m\u001b[0;34m.\u001b[0m\u001b[0mtext\u001b[0m\u001b[0;34m)\u001b[0m\u001b[0;34m\u001b[0m\u001b[0;34m\u001b[0m\u001b[0m\n",
      "\u001b[0m\u001b[0;32m    152 \u001b[0;31m\u001b[0;34m\u001b[0m\u001b[0m\n",
      "\u001b[0m\u001b[0;32m    153 \u001b[0;31m    \u001b[0mlogging\u001b[0m\u001b[0;34m.\u001b[0m\u001b[0minfo\u001b[0m\u001b[0;34m(\u001b[0m\u001b[0;34m'Stream returned: '\u001b[0m \u001b[0;34m+\u001b[0m \u001b[0mresponse\u001b[0m\u001b[0;34m.\u001b[0m\u001b[0mtext\u001b[0m\u001b[0;34m)\u001b[0m\u001b[0;34m\u001b[0m\u001b[0;34m\u001b[0m\u001b[0m\n",
      "\u001b[0m\n",
      "> \u001b[0;32m/sf/bernina/applications/bm/envs/bernina38/lib/python3.8/site-packages/bsread/bsread.py\u001b[0m(132)\u001b[0;36m__init__\u001b[0;34m()\u001b[0m\n",
      "\u001b[0;32m    130 \u001b[0;31m\u001b[0;34m\u001b[0m\u001b[0m\n",
      "\u001b[0m\u001b[0;32m    131 \u001b[0;31m            \u001b[0mstream_type\u001b[0m \u001b[0;34m=\u001b[0m \u001b[0;34m'push_pull'\u001b[0m \u001b[0;32mif\u001b[0m \u001b[0mself\u001b[0m\u001b[0;34m.\u001b[0m\u001b[0mmode\u001b[0m \u001b[0;34m==\u001b[0m \u001b[0mPULL\u001b[0m \u001b[0;32melse\u001b[0m \u001b[0;34m'pub_sub'\u001b[0m\u001b[0;34m\u001b[0m\u001b[0;34m\u001b[0m\u001b[0m\n",
      "\u001b[0m\u001b[0;32m--> 132 \u001b[0;31m            self.address = dispatcher.request_stream(channels,\n",
      "\u001b[0m\u001b[0;32m    133 \u001b[0;31m                                                     \u001b[0mstream_type\u001b[0m\u001b[0;34m=\u001b[0m\u001b[0mstream_type\u001b[0m\u001b[0;34m,\u001b[0m\u001b[0;34m\u001b[0m\u001b[0;34m\u001b[0m\u001b[0m\n",
      "\u001b[0m\u001b[0;32m    134 \u001b[0;31m                                                     \u001b[0mverify\u001b[0m\u001b[0;34m=\u001b[0m\u001b[0mdispatcher_verify_request\u001b[0m\u001b[0;34m,\u001b[0m\u001b[0;34m\u001b[0m\u001b[0;34m\u001b[0m\u001b[0m\n",
      "\u001b[0m\n",
      "> \u001b[0;32m/photonics/home/lemke_h/mypy/escape-fel/escape/stream/es_wrappers.py\u001b[0m(62)\u001b[0;36mremove_source\u001b[0;34m()\u001b[0m\n",
      "\u001b[0;32m     60 \u001b[0;31m            \u001b[0mself\u001b[0m\u001b[0;34m.\u001b[0m\u001b[0msource\u001b[0m\u001b[0;34m.\u001b[0m\u001b[0mdisconnect\u001b[0m\u001b[0;34m(\u001b[0m\u001b[0;34m)\u001b[0m\u001b[0;34m\u001b[0m\u001b[0;34m\u001b[0m\u001b[0m\n",
      "\u001b[0m\u001b[0;32m     61 \u001b[0;31m\u001b[0;34m\u001b[0m\u001b[0m\n",
      "\u001b[0m\u001b[0;32m---> 62 \u001b[0;31m        \u001b[0mself\u001b[0m\u001b[0;34m.\u001b[0m\u001b[0msource\u001b[0m \u001b[0;34m=\u001b[0m \u001b[0mSource\u001b[0m\u001b[0;34m(\u001b[0m\u001b[0;34m**\u001b[0m\u001b[0mkwargs\u001b[0m\u001b[0;34m)\u001b[0m\u001b[0;34m\u001b[0m\u001b[0;34m\u001b[0m\u001b[0m\n",
      "\u001b[0m\u001b[0;32m     63 \u001b[0;31m        \u001b[0mself\u001b[0m\u001b[0;34m.\u001b[0m\u001b[0msource\u001b[0m\u001b[0;34m.\u001b[0m\u001b[0mconnect\u001b[0m\u001b[0;34m(\u001b[0m\u001b[0;34m)\u001b[0m\u001b[0;34m\u001b[0m\u001b[0;34m\u001b[0m\u001b[0m\n",
      "\u001b[0m\u001b[0;32m     64 \u001b[0;31m\u001b[0;34m\u001b[0m\u001b[0m\n",
      "\u001b[0m\n",
      "{'host': None, 'port': 9999, 'config_port': None, 'conn_type': 'connect', 'mode': None, 'queue_size': 100, 'copy': True, 'config_address': None, 'all_channels': False, 'receive_timeout': None, 'dispatcher_url': 'https://dispatcher-api.psi.ch/sf', 'dispatcher_verify_request': True, 'dispatcher_disable_compression': False, 'channels': []}\n"
     ]
    }
   ],
   "source": [
    "%debug"
   ]
  },
  {
   "cell_type": "code",
   "execution_count": 38,
   "metadata": {},
   "outputs": [
    {
     "name": "stderr",
     "output_type": "stream",
     "text": [
      "/tmp/ipykernel_3612/2599260687.py:3: DeprecationWarning: isAlive() is deprecated, use is_alive() instead\n",
      "  t.isAlive()\n"
     ]
    },
    {
     "data": {
      "text/plain": [
       "True"
      ]
     },
     "execution_count": 38,
     "metadata": {},
     "output_type": "execute_result"
    }
   ],
   "source": [
    "t = Thread(target=sleep,args=[5]) \n",
    "t.start()\n",
    "t.isAlive()"
   ]
  },
  {
   "cell_type": "code",
   "execution_count": 1,
   "metadata": {},
   "outputs": [
    {
     "ename": "AttributeError",
     "evalue": "'NoneType' object has no attribute 'disconnect'",
     "output_type": "error",
     "traceback": [
      "\u001b[0;31m---------------------------------------------------------------------------\u001b[0m",
      "\u001b[0;31mAttributeError\u001b[0m                            Traceback (most recent call last)",
      "\u001b[1;32m/photonics/home/lemke_h/mypy/escape-fel/escape/stream/tests.ipynb Cell 2'\u001b[0m in \u001b[0;36m<cell line: 7>\u001b[0;34m()\u001b[0m\n\u001b[1;32m      <a href='vscode-notebook-cell://ssh-remote%2Bsaresb-cons-02/photonics/home/lemke_h/mypy/escape-fel/escape/stream/tests.ipynb#ch0000001vscode-remote?line=4'>5</a>\u001b[0m ew \u001b[39m=\u001b[39m stream\u001b[39m.\u001b[39mEventWorker()                                                        \n\u001b[1;32m      <a href='vscode-notebook-cell://ssh-remote%2Bsaresb-cons-02/photonics/home/lemke_h/mypy/escape-fel/escape/stream/tests.ipynb#ch0000001vscode-remote?line=5'>6</a>\u001b[0m ew\u001b[39m.\u001b[39mregisterSource( \u001b[39m'\u001b[39m\u001b[39mSAROP21-PBPS103:INTENSITY\u001b[39m\u001b[39m'\u001b[39m)                                  \n\u001b[0;32m----> <a href='vscode-notebook-cell://ssh-remote%2Bsaresb-cons-02/photonics/home/lemke_h/mypy/escape-fel/escape/stream/tests.ipynb#ch0000001vscode-remote?line=6'>7</a>\u001b[0m ew\u001b[39m.\u001b[39;49mregisterSource(\u001b[39m'\u001b[39;49m\u001b[39mSARFE10-PBPS053:INTENSITY\u001b[39;49m\u001b[39m'\u001b[39;49m)\n",
      "File \u001b[0;32m~/mypy/escape-fel/escape/stream/escape_stream.py:384\u001b[0m, in \u001b[0;36mEventWorker.registerSource\u001b[0;34m(self, sourceID)\u001b[0m\n\u001b[1;32m    <a href='file:///photonics/home/lemke_h/mypy/escape-fel/escape/stream/escape_stream.py?line=382'>383</a>\u001b[0m \u001b[39mdef\u001b[39;00m \u001b[39mregisterSource\u001b[39m(\u001b[39mself\u001b[39m, sourceID):\n\u001b[0;32m--> <a href='file:///photonics/home/lemke_h/mypy/escape-fel/escape/stream/escape_stream.py?line=383'>384</a>\u001b[0m     \u001b[39mself\u001b[39;49m\u001b[39m.\u001b[39;49minitSourceFunc(sourceID)\n",
      "File \u001b[0;32m~/mypy/escape-fel/escape/stream/es_wrappers.py:46\u001b[0m, in \u001b[0;36mEventHandler_SFEL.register_source\u001b[0;34m(self, source_id)\u001b[0m\n\u001b[1;32m     <a href='file:///photonics/home/lemke_h/mypy/escape-fel/escape/stream/es_wrappers.py?line=42'>43</a>\u001b[0m kwargs[\u001b[39m\"\u001b[39m\u001b[39mchannels\u001b[39m\u001b[39m\"\u001b[39m] \u001b[39m=\u001b[39m \u001b[39mself\u001b[39m\u001b[39m.\u001b[39msource_ids\n\u001b[1;32m     <a href='file:///photonics/home/lemke_h/mypy/escape-fel/escape/stream/es_wrappers.py?line=44'>45</a>\u001b[0m \u001b[39mif\u001b[39;00m \u001b[39mself\u001b[39m\u001b[39m.\u001b[39msource:\n\u001b[0;32m---> <a href='file:///photonics/home/lemke_h/mypy/escape-fel/escape/stream/es_wrappers.py?line=45'>46</a>\u001b[0m     \u001b[39mself\u001b[39;49m\u001b[39m.\u001b[39;49msource\u001b[39m.\u001b[39;49mdisconnect()\n\u001b[1;32m     <a href='file:///photonics/home/lemke_h/mypy/escape-fel/escape/stream/es_wrappers.py?line=47'>48</a>\u001b[0m \u001b[39mself\u001b[39m\u001b[39m.\u001b[39msource \u001b[39m=\u001b[39m Source(\u001b[39m*\u001b[39m\u001b[39m*\u001b[39mkwargs)\n",
      "File \u001b[0;32m/sf/bernina/applications/bm/envs/bernina38/lib/python3.8/site-packages/bsread/bsread.py:155\u001b[0m, in \u001b[0;36mSource.disconnect\u001b[0;34m(self)\u001b[0m\n\u001b[1;32m    <a href='file:///sf/bernina/applications/bm/envs/bernina38/lib/python3.8/site-packages/bsread/bsread.py?line=152'>153</a>\u001b[0m \u001b[39mdef\u001b[39;00m \u001b[39mdisconnect\u001b[39m(\u001b[39mself\u001b[39m):\n\u001b[1;32m    <a href='file:///sf/bernina/applications/bm/envs/bernina38/lib/python3.8/site-packages/bsread/bsread.py?line=153'>154</a>\u001b[0m     \u001b[39mtry\u001b[39;00m:\n\u001b[0;32m--> <a href='file:///sf/bernina/applications/bm/envs/bernina38/lib/python3.8/site-packages/bsread/bsread.py?line=154'>155</a>\u001b[0m         \u001b[39mself\u001b[39;49m\u001b[39m.\u001b[39;49mstream\u001b[39m.\u001b[39;49mdisconnect()\n\u001b[1;32m    <a href='file:///sf/bernina/applications/bm/envs/bernina38/lib/python3.8/site-packages/bsread/bsread.py?line=155'>156</a>\u001b[0m     \u001b[39mfinally\u001b[39;00m:\n\u001b[1;32m    <a href='file:///sf/bernina/applications/bm/envs/bernina38/lib/python3.8/site-packages/bsread/bsread.py?line=156'>157</a>\u001b[0m         \u001b[39m# # TODO REMOVE Workaround\u001b[39;00m\n\u001b[1;32m    <a href='file:///sf/bernina/applications/bm/envs/bernina38/lib/python3.8/site-packages/bsread/bsread.py?line=157'>158</a>\u001b[0m         \u001b[39m# import re\u001b[39;00m\n\u001b[1;32m    <a href='file:///sf/bernina/applications/bm/envs/bernina38/lib/python3.8/site-packages/bsread/bsread.py?line=158'>159</a>\u001b[0m         \u001b[39m# self.address = re.sub('localhost', 'psivpn128.psi.ch', self.address)\u001b[39;00m\n\u001b[1;32m    <a href='file:///sf/bernina/applications/bm/envs/bernina38/lib/python3.8/site-packages/bsread/bsread.py?line=159'>160</a>\u001b[0m         \u001b[39m# print(self.address)\u001b[39;00m\n\u001b[1;32m    <a href='file:///sf/bernina/applications/bm/envs/bernina38/lib/python3.8/site-packages/bsread/bsread.py?line=161'>162</a>\u001b[0m         \u001b[39mif\u001b[39;00m \u001b[39mself\u001b[39m\u001b[39m.\u001b[39muse_dispatching_layer:\n",
      "\u001b[0;31mAttributeError\u001b[0m: 'NoneType' object has no attribute 'disconnect'"
     ]
    }
   ],
   "source": [
    "import sys                                                                       \n",
    "from time import sleep                                                           \n",
    "sys.path.insert(0,'/photonics/home/lemke_h/mypy/escape-fel/')                    \n",
    "from escape import stream                                                        \n",
    "ew = stream.EventWorker()                                                        \n",
    "ew.registerSource( 'SAROP21-PBPS103:INTENSITY')                                  \n",
    "ew.registerSource('SARFE10-PBPS053:INTENSITY')  "
   ]
  },
  {
   "cell_type": "code",
   "execution_count": 10,
   "metadata": {},
   "outputs": [
    {
     "ename": "AttributeError",
     "evalue": "'NoneType' object has no attribute 'receive'",
     "output_type": "error",
     "traceback": [
      "\u001b[0;31m---------------------------------------------------------------------------\u001b[0m",
      "\u001b[0;31mAttributeError\u001b[0m                            Traceback (most recent call last)",
      "\u001b[1;32m/photonics/home/lemke_h/mypy/escape-fel/escape/stream/tests.ipynb Cell 3'\u001b[0m in \u001b[0;36m<cell line: 1>\u001b[0;34m()\u001b[0m\n\u001b[0;32m----> <a href='vscode-notebook-cell://ssh-remote%2Bsaresb-cons-02/photonics/home/lemke_h/mypy/escape-fel/escape/stream/tests.ipynb#ch0000002vscode-remote?line=0'>1</a>\u001b[0m ew\u001b[39m.\u001b[39;49m_eventHandler\u001b[39m.\u001b[39;49msource\u001b[39m.\u001b[39;49mstream\u001b[39m.\u001b[39;49mreceive()\n",
      "\u001b[0;31mAttributeError\u001b[0m: 'NoneType' object has no attribute 'receive'"
     ]
    }
   ],
   "source": [
    "# ew._eventHandler.source.stream.receive()\n"
   ]
  },
  {
   "cell_type": "code",
   "execution_count": null,
   "metadata": {},
   "outputs": [],
   "source": []
  },
  {
   "cell_type": "code",
   "execution_count": null,
   "metadata": {},
   "outputs": [],
   "source": []
  }
 ],
 "metadata": {
  "interpreter": {
   "hash": "dac2ad55bec39ba7565378808ab662984f80a2211f985daad093601dc8559a06"
  },
  "kernelspec": {
   "display_name": "Python 3.8.13 ('bernina38')",
   "language": "python",
   "name": "python3"
  },
  "language_info": {
   "codemirror_mode": {
    "name": "ipython",
    "version": 3
   },
   "file_extension": ".py",
   "mimetype": "text/x-python",
   "name": "python",
   "nbconvert_exporter": "python",
   "pygments_lexer": "ipython3",
   "version": "3.8.13"
  },
  "orig_nbformat": 4
 },
 "nbformat": 4,
 "nbformat_minor": 2
}
