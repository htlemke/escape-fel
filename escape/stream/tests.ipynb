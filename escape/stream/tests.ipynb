{
 "cells": [
  {
   "cell_type": "code",
   "execution_count": 2,
   "metadata": {},
   "outputs": [
    {
     "name": "stdout",
     "output_type": "stream",
     "text": [
      "Using matplotlib backend: module://ipympl.backend_nbagg\n",
      "%pylab is deprecated, use %matplotlib inline and import the required libraries.\n",
      "Populating the interactive namespace from numpy and matplotlib\n"
     ]
    }
   ],
   "source": [
    "%matplotlib widget\n",
    "%pylab\n",
    "import sys\n",
    "sys.path.insert(0,'/photonics/home/lemke_h/mypy/escape-fel/')\n",
    "from escape import stream\n",
    "ew = stream.EventWorker()\n",
    "from time import sleep"
   ]
  },
  {
   "cell_type": "code",
   "execution_count": 3,
   "metadata": {},
   "outputs": [
    {
     "name": "stdout",
     "output_type": "stream",
     "text": [
      "Toggling accumulation to on\n"
     ]
    }
   ],
   "source": [
    "t = stream.EscData(source=stream.EventSource('SAROP21-PBPS103:INTENSITY',ew))   \n",
    "i = stream.EscData(source=stream.EventSource('SARFE10-PBPS053:INTENSITY',ew)) \n",
    "e = stream.EscData(source=stream.EventSource('SAR-CVME-TIFALL5:EvtSet',ew)) \n",
    "# i.accumulate()\n",
    "e.accumulate()"
   ]
  },
  {
   "cell_type": "code",
   "execution_count": 62,
   "metadata": {},
   "outputs": [
    {
     "name": "stdout",
     "output_type": "stream",
     "text": [
      "Toggling accumulation to on\n"
     ]
    },
    {
     "ename": "KeyboardInterrupt",
     "evalue": "",
     "output_type": "error",
     "traceback": [
      "\u001b[0;31m---------------------------------------------------------------------------\u001b[0m",
      "\u001b[0;31mKeyboardInterrupt\u001b[0m                         Traceback (most recent call last)",
      "\u001b[1;32m/photonics/home/lemke_h/mypy/escape-fel/escape/stream/tests.ipynb Cell 3'\u001b[0m in \u001b[0;36m<cell line: 1>\u001b[0;34m()\u001b[0m\n\u001b[0;32m----> <a href='vscode-notebook-cell://ssh-remote%2Bsaresb-cons-02/photonics/home/lemke_h/mypy/escape-fel/escape/stream/tests.ipynb#ch0000003vscode-remote?line=0'>1</a>\u001b[0m i\u001b[39m.\u001b[39;49maccumulate()\n",
      "File \u001b[0;32m~/mypy/escape-fel/escape/stream/escape_stream.py:189\u001b[0m, in \u001b[0;36mEscData.accumulate\u001b[0;34m(self, do_accumulate)\u001b[0m\n\u001b[1;32m    186\u001b[0m     do_accumulate \u001b[39m=\u001b[39m \u001b[39mnot\u001b[39;00m \u001b[39mself\u001b[39m\u001b[39m.\u001b[39m_is_accumulating()\n\u001b[1;32m    188\u001b[0m \u001b[39mif\u001b[39;00m do_accumulate:\n\u001b[0;32m--> 189\u001b[0m     \u001b[39mself\u001b[39;49m\u001b[39m.\u001b[39;49m_source\u001b[39m.\u001b[39;49meventWorker\u001b[39m.\u001b[39;49mregisterSource(\u001b[39mself\u001b[39;49m\u001b[39m.\u001b[39;49m_source\u001b[39m.\u001b[39;49mname)\n\u001b[1;32m    190\u001b[0m     \u001b[39mself\u001b[39m\u001b[39m.\u001b[39m_source\u001b[39m.\u001b[39meventWorker\u001b[39m.\u001b[39meventCallbacks\u001b[39m.\u001b[39mappend(\u001b[39mself\u001b[39m\u001b[39m.\u001b[39m_appendEventData)\n\u001b[1;32m    191\u001b[0m \u001b[39melse\u001b[39;00m:\n",
      "File \u001b[0;32m~/mypy/escape-fel/escape/stream/escape_stream.py:389\u001b[0m, in \u001b[0;36mEventWorker.registerSource\u001b[0;34m(self, sourceID)\u001b[0m\n\u001b[1;32m    388\u001b[0m \u001b[39mdef\u001b[39;00m \u001b[39mregisterSource\u001b[39m(\u001b[39mself\u001b[39m, sourceID):\n\u001b[0;32m--> 389\u001b[0m     \u001b[39mself\u001b[39;49m\u001b[39m.\u001b[39;49mstopEventLoop()\n\u001b[1;32m    390\u001b[0m     \u001b[39mself\u001b[39m\u001b[39m.\u001b[39minitSourceFunc(sourceID)\n\u001b[1;32m    391\u001b[0m     \u001b[39mself\u001b[39m\u001b[39m.\u001b[39mstartEventLoop()\n",
      "File \u001b[0;32m~/mypy/escape-fel/escape/stream/escape_stream.py:435\u001b[0m, in \u001b[0;36mEventWorker.stopEventLoop\u001b[0;34m(self)\u001b[0m\n\u001b[1;32m    433\u001b[0m \u001b[39mif\u001b[39;00m \u001b[39mhasattr\u001b[39m(\u001b[39mself\u001b[39m, \u001b[39m\"\u001b[39m\u001b[39mloopThread\u001b[39m\u001b[39m\"\u001b[39m):\n\u001b[1;32m    434\u001b[0m     \u001b[39mwhile\u001b[39;00m \u001b[39mself\u001b[39m\u001b[39m.\u001b[39mloopThread\u001b[39m.\u001b[39misAlive():\n\u001b[0;32m--> 435\u001b[0m         time\u001b[39m.\u001b[39;49msleep(\u001b[39m0.02\u001b[39;49m)\n",
      "\u001b[0;31mKeyboardInterrupt\u001b[0m: "
     ]
    }
   ],
   "source": [
    "i.accumulate()"
   ]
  },
  {
   "cell_type": "code",
   "execution_count": 42,
   "metadata": {},
   "outputs": [
    {
     "name": "stdout",
     "output_type": "stream",
     "text": [
      "Toggling accumulation to on\n"
     ]
    },
    {
     "name": "stderr",
     "output_type": "stream",
     "text": [
      "WARNING:bsread.data.helpers:'type' channel field not found. Parse as 64-bit floating-point number float64 (default).\n"
     ]
    }
   ],
   "source": [
    "i.accumulate()"
   ]
  },
  {
   "cell_type": "code",
   "execution_count": 60,
   "metadata": {},
   "outputs": [
    {
     "data": {
      "text/plain": [
       "0.026725333319497162"
      ]
     },
     "execution_count": 60,
     "metadata": {},
     "output_type": "execute_result"
    }
   ],
   "source": [
    "i.data[0][-1]"
   ]
  },
  {
   "cell_type": "code",
   "execution_count": 47,
   "metadata": {},
   "outputs": [],
   "source": [
    "import sys                                                                       \n",
    "from time import sleep                                                           \n",
    "sys.path.insert(0,'/photonics/home/lemke_h/mypy/escape-fel/')                    \n",
    "from escape.stream.es_wrappers import EventHandler_SFEL                                                   \n",
    "es = EventHandler_SFEL()"
   ]
  },
  {
   "cell_type": "code",
   "execution_count": 39,
   "metadata": {},
   "outputs": [
    {
     "ename": "NameError",
     "evalue": "name 'es' is not defined",
     "output_type": "error",
     "traceback": [
      "\u001b[0;31m---------------------------------------------------------------------------\u001b[0m",
      "\u001b[0;31mNameError\u001b[0m                                 Traceback (most recent call last)",
      "\u001b[1;32m/photonics/home/lemke_h/mypy/escape-fel/escape/stream/tests.ipynb Cell 2'\u001b[0m in \u001b[0;36m<cell line: 1>\u001b[0;34m()\u001b[0m\n\u001b[0;32m----> <a href='vscode-notebook-cell://ssh-remote%2Bsaresb-cons-02/photonics/home/lemke_h/mypy/escape-fel/escape/stream/tests.ipynb#ch0000008vscode-remote?line=0'>1</a>\u001b[0m es\u001b[39m.\u001b[39mregister_source( \u001b[39m'\u001b[39m\u001b[39mSAROP21-PBPS103:INTENSITY\u001b[39m\u001b[39m'\u001b[39m)  \n\u001b[1;32m      <a href='vscode-notebook-cell://ssh-remote%2Bsaresb-cons-02/photonics/home/lemke_h/mypy/escape-fel/escape/stream/tests.ipynb#ch0000008vscode-remote?line=1'>2</a>\u001b[0m es\u001b[39m.\u001b[39mregister_source( \u001b[39m'\u001b[39m\u001b[39mSARFE10-PBPS053:INTENSITY\u001b[39m\u001b[39m'\u001b[39m)   \n\u001b[1;32m      <a href='vscode-notebook-cell://ssh-remote%2Bsaresb-cons-02/photonics/home/lemke_h/mypy/escape-fel/escape/stream/tests.ipynb#ch0000008vscode-remote?line=2'>3</a>\u001b[0m m \u001b[39m=\u001b[39m es\u001b[39m.\u001b[39msource\u001b[39m.\u001b[39mreceive()\n",
      "\u001b[0;31mNameError\u001b[0m: name 'es' is not defined"
     ]
    }
   ],
   "source": [
    "es.register_source( 'SAROP21-PBPS103:INTENSITY')  \n",
    "es.register_source( 'SARFE10-PBPS053:INTENSITY')   \n",
    "m = es.source.receive()"
   ]
  },
  {
   "cell_type": "code",
   "execution_count": 16,
   "metadata": {},
   "outputs": [
    {
     "data": {
      "text/plain": [
       "odict_keys(['SAROP21-PBPS103:INTENSITY', 'SARFE10-PBPS053:INTENSITY'])"
      ]
     },
     "execution_count": 16,
     "metadata": {},
     "output_type": "execute_result"
    }
   ],
   "source": [
    "m.data.data.keys()"
   ]
  },
  {
   "cell_type": "code",
   "execution_count": null,
   "metadata": {},
   "outputs": [],
   "source": [
    "\n",
    "ew = stream.EventWorker()                                                        \n",
    "# ew.registerSource( 'SAROP21-PBPS103:INTENSITY')                                  \n",
    "ew.registerSource('SARFE10-PBPS053:INTENSITY')                                                                                                 \n",
    "sleep(5)                                                                        \n",
    "# t = stream.EscData(source=stream.EventSource( 'SAROP21-PBPS103:INTENSITY',ew))   \n",
    "i = stream.EscData(source=stream.EventSource('SARFE10-PBPS053:INTENSITY',ew)) \n",
    "ew.startEventLoop()"
   ]
  },
  {
   "cell_type": "code",
   "execution_count": 4,
   "metadata": {},
   "outputs": [
    {
     "data": {
      "text/plain": [
       "[deque([0.010659934213330162])]"
      ]
     },
     "execution_count": 4,
     "metadata": {},
     "output_type": "execute_result"
    }
   ],
   "source": [
    "i.data\n",
    "# t.accumulate()"
   ]
  },
  {
   "cell_type": "code",
   "execution_count": 6,
   "metadata": {},
   "outputs": [
    {
     "name": "stdout",
     "output_type": "stream",
     "text": [
      "> \u001b[0;32m/sf/bernina/applications/bm/envs/bernina38/lib/python3.8/site-packages/bsread/dispatcher.py\u001b[0m(151)\u001b[0;36mrequest_stream\u001b[0;34m()\u001b[0m\n",
      "\u001b[0;32m    149 \u001b[0;31m\u001b[0;34m\u001b[0m\u001b[0m\n",
      "\u001b[0m\u001b[0;32m    150 \u001b[0;31m    \u001b[0;32mif\u001b[0m \u001b[0;32mnot\u001b[0m \u001b[0mresponse\u001b[0m\u001b[0;34m.\u001b[0m\u001b[0mok\u001b[0m\u001b[0;34m:\u001b[0m\u001b[0;34m\u001b[0m\u001b[0;34m\u001b[0m\u001b[0m\n",
      "\u001b[0m\u001b[0;32m--> 151 \u001b[0;31m        \u001b[0;32mraise\u001b[0m \u001b[0mException\u001b[0m\u001b[0;34m(\u001b[0m\u001b[0;34m'Unable to request stream for specified channels - '\u001b[0m \u001b[0;34m+\u001b[0m \u001b[0mresponse\u001b[0m\u001b[0;34m.\u001b[0m\u001b[0mtext\u001b[0m\u001b[0;34m)\u001b[0m\u001b[0;34m\u001b[0m\u001b[0;34m\u001b[0m\u001b[0m\n",
      "\u001b[0m\u001b[0;32m    152 \u001b[0;31m\u001b[0;34m\u001b[0m\u001b[0m\n",
      "\u001b[0m\u001b[0;32m    153 \u001b[0;31m    \u001b[0mlogging\u001b[0m\u001b[0;34m.\u001b[0m\u001b[0minfo\u001b[0m\u001b[0;34m(\u001b[0m\u001b[0;34m'Stream returned: '\u001b[0m \u001b[0;34m+\u001b[0m \u001b[0mresponse\u001b[0m\u001b[0;34m.\u001b[0m\u001b[0mtext\u001b[0m\u001b[0;34m)\u001b[0m\u001b[0;34m\u001b[0m\u001b[0;34m\u001b[0m\u001b[0m\n",
      "\u001b[0m\n",
      "> \u001b[0;32m/sf/bernina/applications/bm/envs/bernina38/lib/python3.8/site-packages/bsread/bsread.py\u001b[0m(132)\u001b[0;36m__init__\u001b[0;34m()\u001b[0m\n",
      "\u001b[0;32m    130 \u001b[0;31m\u001b[0;34m\u001b[0m\u001b[0m\n",
      "\u001b[0m\u001b[0;32m    131 \u001b[0;31m            \u001b[0mstream_type\u001b[0m \u001b[0;34m=\u001b[0m \u001b[0;34m'push_pull'\u001b[0m \u001b[0;32mif\u001b[0m \u001b[0mself\u001b[0m\u001b[0;34m.\u001b[0m\u001b[0mmode\u001b[0m \u001b[0;34m==\u001b[0m \u001b[0mPULL\u001b[0m \u001b[0;32melse\u001b[0m \u001b[0;34m'pub_sub'\u001b[0m\u001b[0;34m\u001b[0m\u001b[0;34m\u001b[0m\u001b[0m\n",
      "\u001b[0m\u001b[0;32m--> 132 \u001b[0;31m            self.address = dispatcher.request_stream(channels,\n",
      "\u001b[0m\u001b[0;32m    133 \u001b[0;31m                                                     \u001b[0mstream_type\u001b[0m\u001b[0;34m=\u001b[0m\u001b[0mstream_type\u001b[0m\u001b[0;34m,\u001b[0m\u001b[0;34m\u001b[0m\u001b[0;34m\u001b[0m\u001b[0m\n",
      "\u001b[0m\u001b[0;32m    134 \u001b[0;31m                                                     \u001b[0mverify\u001b[0m\u001b[0;34m=\u001b[0m\u001b[0mdispatcher_verify_request\u001b[0m\u001b[0;34m,\u001b[0m\u001b[0;34m\u001b[0m\u001b[0;34m\u001b[0m\u001b[0m\n",
      "\u001b[0m\n",
      "> \u001b[0;32m/photonics/home/lemke_h/mypy/escape-fel/escape/stream/es_wrappers.py\u001b[0m(62)\u001b[0;36mremove_source\u001b[0;34m()\u001b[0m\n",
      "\u001b[0;32m     60 \u001b[0;31m            \u001b[0mself\u001b[0m\u001b[0;34m.\u001b[0m\u001b[0msource\u001b[0m\u001b[0;34m.\u001b[0m\u001b[0mdisconnect\u001b[0m\u001b[0;34m(\u001b[0m\u001b[0;34m)\u001b[0m\u001b[0;34m\u001b[0m\u001b[0;34m\u001b[0m\u001b[0m\n",
      "\u001b[0m\u001b[0;32m     61 \u001b[0;31m\u001b[0;34m\u001b[0m\u001b[0m\n",
      "\u001b[0m\u001b[0;32m---> 62 \u001b[0;31m        \u001b[0mself\u001b[0m\u001b[0;34m.\u001b[0m\u001b[0msource\u001b[0m \u001b[0;34m=\u001b[0m \u001b[0mSource\u001b[0m\u001b[0;34m(\u001b[0m\u001b[0;34m**\u001b[0m\u001b[0mkwargs\u001b[0m\u001b[0;34m)\u001b[0m\u001b[0;34m\u001b[0m\u001b[0;34m\u001b[0m\u001b[0m\n",
      "\u001b[0m\u001b[0;32m     63 \u001b[0;31m        \u001b[0mself\u001b[0m\u001b[0;34m.\u001b[0m\u001b[0msource\u001b[0m\u001b[0;34m.\u001b[0m\u001b[0mconnect\u001b[0m\u001b[0;34m(\u001b[0m\u001b[0;34m)\u001b[0m\u001b[0;34m\u001b[0m\u001b[0;34m\u001b[0m\u001b[0m\n",
      "\u001b[0m\u001b[0;32m     64 \u001b[0;31m\u001b[0;34m\u001b[0m\u001b[0m\n",
      "\u001b[0m\n",
      "{'host': None, 'port': 9999, 'config_port': None, 'conn_type': 'connect', 'mode': None, 'queue_size': 100, 'copy': True, 'config_address': None, 'all_channels': False, 'receive_timeout': None, 'dispatcher_url': 'https://dispatcher-api.psi.ch/sf', 'dispatcher_verify_request': True, 'dispatcher_disable_compression': False, 'channels': []}\n"
     ]
    }
   ],
   "source": [
    "%debug"
   ]
  },
  {
   "cell_type": "code",
   "execution_count": 38,
   "metadata": {},
   "outputs": [
    {
     "name": "stderr",
     "output_type": "stream",
     "text": [
      "/tmp/ipykernel_3612/2599260687.py:3: DeprecationWarning: isAlive() is deprecated, use is_alive() instead\n",
      "  t.isAlive()\n"
     ]
    },
    {
     "data": {
      "text/plain": [
       "True"
      ]
     },
     "execution_count": 38,
     "metadata": {},
     "output_type": "execute_result"
    }
   ],
   "source": [
    "t = Thread(target=sleep,args=[5]) \n",
    "t.start()\n",
    "t.isAlive()"
   ]
  },
  {
   "cell_type": "code",
   "execution_count": 1,
   "metadata": {},
   "outputs": [
    {
     "ename": "AttributeError",
     "evalue": "'NoneType' object has no attribute 'disconnect'",
     "output_type": "error",
     "traceback": [
      "\u001b[0;31m---------------------------------------------------------------------------\u001b[0m",
      "\u001b[0;31mAttributeError\u001b[0m                            Traceback (most recent call last)",
      "\u001b[1;32m/photonics/home/lemke_h/mypy/escape-fel/escape/stream/tests.ipynb Cell 2'\u001b[0m in \u001b[0;36m<cell line: 7>\u001b[0;34m()\u001b[0m\n\u001b[1;32m      <a href='vscode-notebook-cell://ssh-remote%2Bsaresb-cons-02/photonics/home/lemke_h/mypy/escape-fel/escape/stream/tests.ipynb#ch0000001vscode-remote?line=4'>5</a>\u001b[0m ew \u001b[39m=\u001b[39m stream\u001b[39m.\u001b[39mEventWorker()                                                        \n\u001b[1;32m      <a href='vscode-notebook-cell://ssh-remote%2Bsaresb-cons-02/photonics/home/lemke_h/mypy/escape-fel/escape/stream/tests.ipynb#ch0000001vscode-remote?line=5'>6</a>\u001b[0m ew\u001b[39m.\u001b[39mregisterSource( \u001b[39m'\u001b[39m\u001b[39mSAROP21-PBPS103:INTENSITY\u001b[39m\u001b[39m'\u001b[39m)                                  \n\u001b[0;32m----> <a href='vscode-notebook-cell://ssh-remote%2Bsaresb-cons-02/photonics/home/lemke_h/mypy/escape-fel/escape/stream/tests.ipynb#ch0000001vscode-remote?line=6'>7</a>\u001b[0m ew\u001b[39m.\u001b[39;49mregisterSource(\u001b[39m'\u001b[39;49m\u001b[39mSARFE10-PBPS053:INTENSITY\u001b[39;49m\u001b[39m'\u001b[39;49m)\n",
      "File \u001b[0;32m~/mypy/escape-fel/escape/stream/escape_stream.py:384\u001b[0m, in \u001b[0;36mEventWorker.registerSource\u001b[0;34m(self, sourceID)\u001b[0m\n\u001b[1;32m    <a href='file:///photonics/home/lemke_h/mypy/escape-fel/escape/stream/escape_stream.py?line=382'>383</a>\u001b[0m \u001b[39mdef\u001b[39;00m \u001b[39mregisterSource\u001b[39m(\u001b[39mself\u001b[39m, sourceID):\n\u001b[0;32m--> <a href='file:///photonics/home/lemke_h/mypy/escape-fel/escape/stream/escape_stream.py?line=383'>384</a>\u001b[0m     \u001b[39mself\u001b[39;49m\u001b[39m.\u001b[39;49minitSourceFunc(sourceID)\n",
      "File \u001b[0;32m~/mypy/escape-fel/escape/stream/es_wrappers.py:46\u001b[0m, in \u001b[0;36mEventHandler_SFEL.register_source\u001b[0;34m(self, source_id)\u001b[0m\n\u001b[1;32m     <a href='file:///photonics/home/lemke_h/mypy/escape-fel/escape/stream/es_wrappers.py?line=42'>43</a>\u001b[0m kwargs[\u001b[39m\"\u001b[39m\u001b[39mchannels\u001b[39m\u001b[39m\"\u001b[39m] \u001b[39m=\u001b[39m \u001b[39mself\u001b[39m\u001b[39m.\u001b[39msource_ids\n\u001b[1;32m     <a href='file:///photonics/home/lemke_h/mypy/escape-fel/escape/stream/es_wrappers.py?line=44'>45</a>\u001b[0m \u001b[39mif\u001b[39;00m \u001b[39mself\u001b[39m\u001b[39m.\u001b[39msource:\n\u001b[0;32m---> <a href='file:///photonics/home/lemke_h/mypy/escape-fel/escape/stream/es_wrappers.py?line=45'>46</a>\u001b[0m     \u001b[39mself\u001b[39;49m\u001b[39m.\u001b[39;49msource\u001b[39m.\u001b[39;49mdisconnect()\n\u001b[1;32m     <a href='file:///photonics/home/lemke_h/mypy/escape-fel/escape/stream/es_wrappers.py?line=47'>48</a>\u001b[0m \u001b[39mself\u001b[39m\u001b[39m.\u001b[39msource \u001b[39m=\u001b[39m Source(\u001b[39m*\u001b[39m\u001b[39m*\u001b[39mkwargs)\n",
      "File \u001b[0;32m/sf/bernina/applications/bm/envs/bernina38/lib/python3.8/site-packages/bsread/bsread.py:155\u001b[0m, in \u001b[0;36mSource.disconnect\u001b[0;34m(self)\u001b[0m\n\u001b[1;32m    <a href='file:///sf/bernina/applications/bm/envs/bernina38/lib/python3.8/site-packages/bsread/bsread.py?line=152'>153</a>\u001b[0m \u001b[39mdef\u001b[39;00m \u001b[39mdisconnect\u001b[39m(\u001b[39mself\u001b[39m):\n\u001b[1;32m    <a href='file:///sf/bernina/applications/bm/envs/bernina38/lib/python3.8/site-packages/bsread/bsread.py?line=153'>154</a>\u001b[0m     \u001b[39mtry\u001b[39;00m:\n\u001b[0;32m--> <a href='file:///sf/bernina/applications/bm/envs/bernina38/lib/python3.8/site-packages/bsread/bsread.py?line=154'>155</a>\u001b[0m         \u001b[39mself\u001b[39;49m\u001b[39m.\u001b[39;49mstream\u001b[39m.\u001b[39;49mdisconnect()\n\u001b[1;32m    <a href='file:///sf/bernina/applications/bm/envs/bernina38/lib/python3.8/site-packages/bsread/bsread.py?line=155'>156</a>\u001b[0m     \u001b[39mfinally\u001b[39;00m:\n\u001b[1;32m    <a href='file:///sf/bernina/applications/bm/envs/bernina38/lib/python3.8/site-packages/bsread/bsread.py?line=156'>157</a>\u001b[0m         \u001b[39m# # TODO REMOVE Workaround\u001b[39;00m\n\u001b[1;32m    <a href='file:///sf/bernina/applications/bm/envs/bernina38/lib/python3.8/site-packages/bsread/bsread.py?line=157'>158</a>\u001b[0m         \u001b[39m# import re\u001b[39;00m\n\u001b[1;32m    <a href='file:///sf/bernina/applications/bm/envs/bernina38/lib/python3.8/site-packages/bsread/bsread.py?line=158'>159</a>\u001b[0m         \u001b[39m# self.address = re.sub('localhost', 'psivpn128.psi.ch', self.address)\u001b[39;00m\n\u001b[1;32m    <a href='file:///sf/bernina/applications/bm/envs/bernina38/lib/python3.8/site-packages/bsread/bsread.py?line=159'>160</a>\u001b[0m         \u001b[39m# print(self.address)\u001b[39;00m\n\u001b[1;32m    <a href='file:///sf/bernina/applications/bm/envs/bernina38/lib/python3.8/site-packages/bsread/bsread.py?line=161'>162</a>\u001b[0m         \u001b[39mif\u001b[39;00m \u001b[39mself\u001b[39m\u001b[39m.\u001b[39muse_dispatching_layer:\n",
      "\u001b[0;31mAttributeError\u001b[0m: 'NoneType' object has no attribute 'disconnect'"
     ]
    }
   ],
   "source": [
    "import sys                                                                       \n",
    "from time import sleep                                                           \n",
    "sys.path.insert(0,'/photonics/home/lemke_h/mypy/escape-fel/')                    \n",
    "from escape import stream                                                        \n",
    "ew = stream.EventWorker()                                                        \n",
    "ew.registerSource( 'SAROP21-PBPS103:INTENSITY')                                  \n",
    "ew.registerSource('SARFE10-PBPS053:INTENSITY')  "
   ]
  },
  {
   "cell_type": "code",
   "execution_count": 10,
   "metadata": {},
   "outputs": [
    {
     "ename": "AttributeError",
     "evalue": "'NoneType' object has no attribute 'receive'",
     "output_type": "error",
     "traceback": [
      "\u001b[0;31m---------------------------------------------------------------------------\u001b[0m",
      "\u001b[0;31mAttributeError\u001b[0m                            Traceback (most recent call last)",
      "\u001b[1;32m/photonics/home/lemke_h/mypy/escape-fel/escape/stream/tests.ipynb Cell 3'\u001b[0m in \u001b[0;36m<cell line: 1>\u001b[0;34m()\u001b[0m\n\u001b[0;32m----> <a href='vscode-notebook-cell://ssh-remote%2Bsaresb-cons-02/photonics/home/lemke_h/mypy/escape-fel/escape/stream/tests.ipynb#ch0000002vscode-remote?line=0'>1</a>\u001b[0m ew\u001b[39m.\u001b[39;49m_eventHandler\u001b[39m.\u001b[39;49msource\u001b[39m.\u001b[39;49mstream\u001b[39m.\u001b[39;49mreceive()\n",
      "\u001b[0;31mAttributeError\u001b[0m: 'NoneType' object has no attribute 'receive'"
     ]
    }
   ],
   "source": [
    "# ew._eventHandler.source.stream.receive()\n"
   ]
  },
  {
   "cell_type": "code",
   "execution_count": null,
   "metadata": {},
   "outputs": [],
   "source": []
  },
  {
   "cell_type": "code",
   "execution_count": null,
   "metadata": {},
   "outputs": [],
   "source": []
  }
 ],
 "metadata": {
  "interpreter": {
   "hash": "dac2ad55bec39ba7565378808ab662984f80a2211f985daad093601dc8559a06"
  },
  "kernelspec": {
   "display_name": "Python 3.8.13 ('bernina38')",
   "language": "python",
   "name": "python3"
  },
  "language_info": {
   "codemirror_mode": {
    "name": "ipython",
    "version": 3
   },
   "file_extension": ".py",
   "mimetype": "text/x-python",
   "name": "python",
   "nbconvert_exporter": "python",
   "pygments_lexer": "ipython3",
   "version": "3.8.13"
  },
  "orig_nbformat": 4
 },
 "nbformat": 4,
 "nbformat_minor": 2
}
