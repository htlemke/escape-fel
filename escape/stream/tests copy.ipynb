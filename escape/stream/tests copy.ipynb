{
 "cells": [
  {
   "cell_type": "code",
   "execution_count": 9,
   "metadata": {},
   "outputs": [
    {
     "name": "stderr",
     "output_type": "stream",
     "text": [
      "WARNING:bsread.data.helpers:'type' channel field not found. Parse as 64-bit floating-point number float64 (default).\n"
     ]
    },
    {
     "name": "stdout",
     "output_type": "stream",
     "text": [
      "1418 15219749350\r"
     ]
    }
   ],
   "source": [
    "from bsread import Source\n",
    "s = Source(channels=['SAROP21-PBPS103:INTENSITY'])\n",
    "s.connect()\n",
    "n = 0\n",
    "while True:\n",
    "        m = s.receive()\n",
    "        ix = m.data.pulse_id\n",
    "        n+=1\n",
    "        print(n,ix,end='\\r')\n"
   ]
  },
  {
   "cell_type": "code",
   "execution_count": 2,
   "metadata": {},
   "outputs": [
    {
     "name": "stderr",
     "output_type": "stream",
     "text": [
      "Exception in thread Thread-6:\n",
      "Traceback (most recent call last):\n",
      "  File \"/sf/bernina/applications/bm/envs/bernina38/lib/python3.8/threading.py\", line 932, in _bootstrap_inner\n",
      "    self.run()\n",
      "  File \"/sf/bernina/applications/bm/envs/bernina38/lib/python3.8/threading.py\", line 870, in run\n",
      "    self._target(*self._args, **self._kwargs)\n",
      "  File \"/photonics/home/lemke_h/mypy/escape-fel/escape/stream/escape_stream.py\", line 397, in eventLoop\n",
      "    for event in self.eventGenerator():\n",
      "  File \"/photonics/home/lemke_h/mypy/escape-fel/escape/stream/es_wrappers.py\", line 104, in __next__\n",
      "    return Event_SFEL(self.source.receive())\n",
      "  File \"/sf/bernina/applications/bm/envs/bernina38/lib/python3.8/site-packages/bsread/bsread.py\", line 171, in receive\n",
      "    message = self.stream.receive(handler=handler)\n",
      "  File \"/sf/bernina/applications/bm/envs/bernina38/lib/python3.8/site-packages/mflow/mflow.py\", line 210, in receive\n",
      "    self.receiver.flush(receive_is_successful)\n",
      "  File \"/sf/bernina/applications/bm/envs/bernina38/lib/python3.8/site-packages/mflow/mflow.py\", line 317, in flush\n",
      "    while self.has_more():\n",
      "  File \"/sf/bernina/applications/bm/envs/bernina38/lib/python3.8/site-packages/mflow/mflow.py\", line 286, in has_more\n",
      "    return self.socket.getsockopt(zmq.RCVMORE)\n",
      "  File \"zmq/backend/cython/socket.pyx\", line 476, in zmq.backend.cython.socket.Socket.get\n",
      "  File \"zmq/backend/cython/socket.pyx\", line 137, in zmq.backend.cython.socket._check_closed\n",
      "zmq.error.ZMQError: Socket operation on non-socket\n"
     ]
    }
   ],
   "source": [
    "import sys                                                                       \n",
    "sys.path.insert(0,'/photonics/home/lemke_h/mypy/escape-fel/')   \n",
    "from escape.stream.es_wrappers import EventHandler_SFEL\n",
    "from escape import stream                                                        \n",
    "\n",
    "\n",
    "\n",
    "# es = EventHandler_SFEL()\n",
    "# es.register_source('SAROP21-PBPS103:INTENSITY')\n",
    "ew = stream.EventWorker()\n",
    "ew.registerSource('SAROP21-PBPS103:INTENSITY')\n",
    "ew._eventHandler.register_source('SAROP21-PBPS103:INTENSITY')\n"
   ]
  },
  {
   "cell_type": "code",
   "execution_count": 4,
   "metadata": {},
   "outputs": [
    {
     "name": "stderr",
     "output_type": "stream",
     "text": [
      "WARNING:bsread.data.helpers:'type' channel field not found. Parse as 64-bit floating-point number float64 (default).\n"
     ]
    }
   ],
   "source": [
    "ew.startEventLoop()"
   ]
  },
  {
   "cell_type": "code",
   "execution_count": 7,
   "metadata": {},
   "outputs": [
    {
     "name": "stdout",
     "output_type": "stream",
     "text": [
      "21\r"
     ]
    },
    {
     "ename": "KeyboardInterrupt",
     "evalue": "",
     "output_type": "error",
     "traceback": [
      "\u001b[0;31m---------------------------------------------------------------------------\u001b[0m",
      "\u001b[0;31mKeyboardInterrupt\u001b[0m                         Traceback (most recent call last)",
      "\u001b[1;32m/photonics/home/lemke_h/mypy/escape-fel/escape/stream/tests copy.ipynb Cell 4'\u001b[0m in \u001b[0;36m<cell line: 4>\u001b[0;34m()\u001b[0m\n\u001b[1;32m      <a href='vscode-notebook-cell://ssh-remote%2Bsaresb-cons-02/photonics/home/lemke_h/mypy/escape-fel/escape/stream/tests%20copy.ipynb#ch0000002vscode-remote?line=0'>1</a>\u001b[0m g \u001b[39m=\u001b[39m ew\u001b[39m.\u001b[39meventGenerator()\n\u001b[1;32m      <a href='vscode-notebook-cell://ssh-remote%2Bsaresb-cons-02/photonics/home/lemke_h/mypy/escape-fel/escape/stream/tests%20copy.ipynb#ch0000002vscode-remote?line=2'>3</a>\u001b[0m n \u001b[39m=\u001b[39m \u001b[39m0\u001b[39m\n\u001b[0;32m----> <a href='vscode-notebook-cell://ssh-remote%2Bsaresb-cons-02/photonics/home/lemke_h/mypy/escape-fel/escape/stream/tests%20copy.ipynb#ch0000002vscode-remote?line=3'>4</a>\u001b[0m \u001b[39mfor\u001b[39;00m tg \u001b[39min\u001b[39;00m g:\n\u001b[1;32m      <a href='vscode-notebook-cell://ssh-remote%2Bsaresb-cons-02/photonics/home/lemke_h/mypy/escape-fel/escape/stream/tests%20copy.ipynb#ch0000002vscode-remote?line=4'>5</a>\u001b[0m     n\u001b[39m+\u001b[39m\u001b[39m=\u001b[39m\u001b[39m1\u001b[39m\n\u001b[1;32m      <a href='vscode-notebook-cell://ssh-remote%2Bsaresb-cons-02/photonics/home/lemke_h/mypy/escape-fel/escape/stream/tests%20copy.ipynb#ch0000002vscode-remote?line=5'>6</a>\u001b[0m     \u001b[39mprint\u001b[39m(n,end\u001b[39m=\u001b[39m\u001b[39m'\u001b[39m\u001b[39m\\r\u001b[39;00m\u001b[39m'\u001b[39m)\n",
      "File \u001b[0;32m~/mypy/escape-fel/escape/stream/es_wrappers.py:104\u001b[0m, in \u001b[0;36mEventGenerator_SFEL.__next__\u001b[0;34m(self)\u001b[0m\n\u001b[1;32m    <a href='file:///photonics/home/lemke_h/mypy/escape-fel/escape/stream/es_wrappers.py?line=102'>103</a>\u001b[0m \u001b[39mdef\u001b[39;00m \u001b[39m__next__\u001b[39m(\u001b[39mself\u001b[39m):\n\u001b[0;32m--> <a href='file:///photonics/home/lemke_h/mypy/escape-fel/escape/stream/es_wrappers.py?line=103'>104</a>\u001b[0m     \u001b[39mreturn\u001b[39;00m Event_SFEL(\u001b[39mself\u001b[39;49m\u001b[39m.\u001b[39;49msource\u001b[39m.\u001b[39;49mreceive())\n",
      "File \u001b[0;32m/sf/bernina/applications/bm/envs/bernina38/lib/python3.8/site-packages/bsread/bsread.py:171\u001b[0m, in \u001b[0;36mSource.receive\u001b[0;34m(self, filter, handler)\u001b[0m\n\u001b[1;32m    <a href='file:///sf/bernina/applications/bm/envs/bernina38/lib/python3.8/site-packages/bsread/bsread.py?line=167'>168</a>\u001b[0m \u001b[39mif\u001b[39;00m \u001b[39mnot\u001b[39;00m handler:\n\u001b[1;32m    <a href='file:///sf/bernina/applications/bm/envs/bernina38/lib/python3.8/site-packages/bsread/bsread.py?line=168'>169</a>\u001b[0m     handler \u001b[39m=\u001b[39m \u001b[39mself\u001b[39m\u001b[39m.\u001b[39mhandler\u001b[39m.\u001b[39mreceive\n\u001b[0;32m--> <a href='file:///sf/bernina/applications/bm/envs/bernina38/lib/python3.8/site-packages/bsread/bsread.py?line=170'>171</a>\u001b[0m message \u001b[39m=\u001b[39m \u001b[39mself\u001b[39;49m\u001b[39m.\u001b[39;49mstream\u001b[39m.\u001b[39;49mreceive(handler\u001b[39m=\u001b[39;49mhandler)\n\u001b[1;32m    <a href='file:///sf/bernina/applications/bm/envs/bernina38/lib/python3.8/site-packages/bsread/bsread.py?line=172'>173</a>\u001b[0m \u001b[39mif\u001b[39;00m \u001b[39mfilter\u001b[39m:\n\u001b[1;32m    <a href='file:///sf/bernina/applications/bm/envs/bernina38/lib/python3.8/site-packages/bsread/bsread.py?line=173'>174</a>\u001b[0m     \u001b[39mwhile\u001b[39;00m \u001b[39mTrue\u001b[39;00m:  \u001b[39m# continue receiving new messages until condition is met\u001b[39;00m\n",
      "File \u001b[0;32m/sf/bernina/applications/bm/envs/bernina38/lib/python3.8/site-packages/mflow/mflow.py:199\u001b[0m, in \u001b[0;36mStream.receive\u001b[0;34m(self, handler, block)\u001b[0m\n\u001b[1;32m    <a href='file:///sf/bernina/applications/bm/envs/bernina38/lib/python3.8/site-packages/mflow/mflow.py?line=195'>196</a>\u001b[0m         logger\u001b[39m.\u001b[39mwarning(\u001b[39m'\u001b[39m\u001b[39mhtype - \u001b[39m\u001b[39m'\u001b[39m \u001b[39m+\u001b[39m htype \u001b[39m+\u001b[39m \u001b[39m'\u001b[39m\u001b[39m -  not supported\u001b[39m\u001b[39m'\u001b[39m)\n\u001b[1;32m    <a href='file:///sf/bernina/applications/bm/envs/bernina38/lib/python3.8/site-packages/mflow/mflow.py?line=197'>198</a>\u001b[0m \u001b[39mtry\u001b[39;00m:\n\u001b[0;32m--> <a href='file:///sf/bernina/applications/bm/envs/bernina38/lib/python3.8/site-packages/mflow/mflow.py?line=198'>199</a>\u001b[0m     data \u001b[39m=\u001b[39m handler(\u001b[39mself\u001b[39;49m\u001b[39m.\u001b[39;49mreceiver)\n\u001b[1;32m    <a href='file:///sf/bernina/applications/bm/envs/bernina38/lib/python3.8/site-packages/mflow/mflow.py?line=199'>200</a>\u001b[0m     \u001b[39m# as an extra safety margin\u001b[39;00m\n\u001b[1;32m    <a href='file:///sf/bernina/applications/bm/envs/bernina38/lib/python3.8/site-packages/mflow/mflow.py?line=200'>201</a>\u001b[0m     \u001b[39mif\u001b[39;00m data:\n",
      "File \u001b[0;32m/sf/bernina/applications/bm/envs/bernina38/lib/python3.8/site-packages/bsread/handlers/compact.py:18\u001b[0m, in \u001b[0;36mHandler.receive\u001b[0;34m(self, receiver)\u001b[0m\n\u001b[1;32m     <a href='file:///sf/bernina/applications/bm/envs/bernina38/lib/python3.8/site-packages/bsread/handlers/compact.py?line=14'>15</a>\u001b[0m \u001b[39mdef\u001b[39;00m \u001b[39mreceive\u001b[39m(\u001b[39mself\u001b[39m, receiver):\n\u001b[1;32m     <a href='file:///sf/bernina/applications/bm/envs/bernina38/lib/python3.8/site-packages/bsread/handlers/compact.py?line=15'>16</a>\u001b[0m \n\u001b[1;32m     <a href='file:///sf/bernina/applications/bm/envs/bernina38/lib/python3.8/site-packages/bsread/handlers/compact.py?line=16'>17</a>\u001b[0m     \u001b[39m# Receive main header\u001b[39;00m\n\u001b[0;32m---> <a href='file:///sf/bernina/applications/bm/envs/bernina38/lib/python3.8/site-packages/bsread/handlers/compact.py?line=17'>18</a>\u001b[0m     header \u001b[39m=\u001b[39m receiver\u001b[39m.\u001b[39;49mnext(as_json\u001b[39m=\u001b[39;49m\u001b[39mTrue\u001b[39;49;00m)\n\u001b[1;32m     <a href='file:///sf/bernina/applications/bm/envs/bernina38/lib/python3.8/site-packages/bsread/handlers/compact.py?line=19'>20</a>\u001b[0m     \u001b[39m# We cannot process an empty Header.\u001b[39;00m\n\u001b[1;32m     <a href='file:///sf/bernina/applications/bm/envs/bernina38/lib/python3.8/site-packages/bsread/handlers/compact.py?line=20'>21</a>\u001b[0m     \u001b[39mif\u001b[39;00m \u001b[39mnot\u001b[39;00m header:\n",
      "File \u001b[0;32m/sf/bernina/applications/bm/envs/bernina38/lib/python3.8/site-packages/mflow/mflow.py:295\u001b[0m, in \u001b[0;36mReceiveHandler.next\u001b[0;34m(self, as_json)\u001b[0m\n\u001b[1;32m    <a href='file:///sf/bernina/applications/bm/envs/bernina38/lib/python3.8/site-packages/mflow/mflow.py?line=292'>293</a>\u001b[0m \u001b[39melse\u001b[39;00m:\n\u001b[1;32m    <a href='file:///sf/bernina/applications/bm/envs/bernina38/lib/python3.8/site-packages/mflow/mflow.py?line=293'>294</a>\u001b[0m     flags \u001b[39m=\u001b[39m \u001b[39m0\u001b[39m \u001b[39mif\u001b[39;00m \u001b[39mself\u001b[39m\u001b[39m.\u001b[39mblock \u001b[39melse\u001b[39;00m zmq\u001b[39m.\u001b[39mNOBLOCK\n\u001b[0;32m--> <a href='file:///sf/bernina/applications/bm/envs/bernina38/lib/python3.8/site-packages/mflow/mflow.py?line=294'>295</a>\u001b[0m     raw \u001b[39m=\u001b[39m \u001b[39mself\u001b[39;49m\u001b[39m.\u001b[39;49msocket\u001b[39m.\u001b[39;49mrecv(flags\u001b[39m=\u001b[39;49mflags, copy\u001b[39m=\u001b[39;49m\u001b[39mself\u001b[39;49m\u001b[39m.\u001b[39;49mzmq_copy, track\u001b[39m=\u001b[39;49m\u001b[39mself\u001b[39;49m\u001b[39m.\u001b[39;49mzmq_track)\n\u001b[1;32m    <a href='file:///sf/bernina/applications/bm/envs/bernina38/lib/python3.8/site-packages/mflow/mflow.py?line=296'>297</a>\u001b[0m \u001b[39mself\u001b[39m\u001b[39m.\u001b[39mstatistics\u001b[39m.\u001b[39mbytes_received \u001b[39m+\u001b[39m\u001b[39m=\u001b[39m \u001b[39mlen\u001b[39m(raw)\n\u001b[1;32m    <a href='file:///sf/bernina/applications/bm/envs/bernina38/lib/python3.8/site-packages/mflow/mflow.py?line=297'>298</a>\u001b[0m \u001b[39mif\u001b[39;00m as_json:\n\u001b[1;32m    <a href='file:///sf/bernina/applications/bm/envs/bernina38/lib/python3.8/site-packages/mflow/mflow.py?line=298'>299</a>\u001b[0m     \u001b[39m# non-copying recv returns a Frame object\u001b[39;00m\n\u001b[1;32m    <a href='file:///sf/bernina/applications/bm/envs/bernina38/lib/python3.8/site-packages/mflow/mflow.py?line=299'>300</a>\u001b[0m     \u001b[39m# use Frame.bytes field will incur a copy, but without causing\u001b[39;00m\n\u001b[1;32m    <a href='file:///sf/bernina/applications/bm/envs/bernina38/lib/python3.8/site-packages/mflow/mflow.py?line=300'>301</a>\u001b[0m     \u001b[39m# significant overhead since json header is of small size\u001b[39;00m\n",
      "File \u001b[0;32mzmq/backend/cython/socket.pyx:803\u001b[0m, in \u001b[0;36mzmq.backend.cython.socket.Socket.recv\u001b[0;34m()\u001b[0m\n",
      "File \u001b[0;32mzmq/backend/cython/socket.pyx:839\u001b[0m, in \u001b[0;36mzmq.backend.cython.socket.Socket.recv\u001b[0;34m()\u001b[0m\n",
      "File \u001b[0;32mzmq/backend/cython/socket.pyx:188\u001b[0m, in \u001b[0;36mzmq.backend.cython.socket._recv_copy\u001b[0;34m()\u001b[0m\n",
      "File \u001b[0;32m/sf/bernina/applications/bm/envs/bernina38/lib/python3.8/site-packages/zmq/backend/cython/checkrc.pxd:13\u001b[0m, in \u001b[0;36mzmq.backend.cython.checkrc._check_rc\u001b[0;34m()\u001b[0m\n",
      "\u001b[0;31mKeyboardInterrupt\u001b[0m: "
     ]
    }
   ],
   "source": [
    "g = ew.eventGenerator()\n",
    "\n",
    "n = 0\n",
    "for tg in g:\n",
    "    n+=1\n",
    "    print(n,end='\\r')"
   ]
  }
 ],
 "metadata": {
  "interpreter": {
   "hash": "dac2ad55bec39ba7565378808ab662984f80a2211f985daad093601dc8559a06"
  },
  "kernelspec": {
   "display_name": "Python 3.8.13 ('bernina38')",
   "language": "python",
   "name": "python3"
  },
  "language_info": {
   "codemirror_mode": {
    "name": "ipython",
    "version": 3
   },
   "file_extension": ".py",
   "mimetype": "text/x-python",
   "name": "python",
   "nbconvert_exporter": "python",
   "pygments_lexer": "ipython3",
   "version": "3.8.13"
  },
  "orig_nbformat": 4
 },
 "nbformat": 4,
 "nbformat_minor": 2
}
